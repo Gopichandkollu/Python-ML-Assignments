{
  "cells": [
    {
      "cell_type": "markdown",
      "metadata": {
        "id": "view-in-github",
        "colab_type": "text"
      },
      "source": [
        "<a href=\"https://colab.research.google.com/github/Gopichandkollu/Python-ML-Assignments/blob/main/Day-7.ipynb\" target=\"_parent\"><img src=\"https://colab.research.google.com/assets/colab-badge.svg\" alt=\"Open In Colab\"/></a>"
      ]
    },
    {
      "cell_type": "code",
      "source": [
        "import pandas as pd\n",
        "df = pd.read_csv(r\"/content/Day_7_sales_data.csv\")\n",
        "print(\"First 5 rows of the dataset:\")\n",
        "print(df.head())\n",
        "print(\"\\nBasic statistics of the numerical columns:\")\n",
        "print(df.describe())"
      ],
      "metadata": {
        "colab": {
          "base_uri": "https://localhost:8080/"
        },
        "id": "MuVZ46D4cez9",
        "outputId": "4fd65793-096f-4a41-9a46-d31a39897252"
      },
      "id": "MuVZ46D4cez9",
      "execution_count": 5,
      "outputs": [
        {
          "output_type": "stream",
          "name": "stdout",
          "text": [
            "First 5 rows of the dataset:\n",
            "         Date Product Region    Sales  Profit  Quantity\n",
            "0  2023-01-02  Tablet   East  1061.81  236.12         7\n",
            "1  2023-01-06  Laptop  North  1926.07  246.34         8\n",
            "2  2023-01-03  Tablet   East  1597.99  253.17         3\n",
            "3  2023-01-20  Tablet  North  1397.99  242.23         1\n",
            "4  2023-01-04  Laptop   West   734.03  140.36         4\n",
            "\n",
            "Basic statistics of the numerical columns:\n",
            "             Sales      Profit   Quantity\n",
            "count    20.000000   20.000000  20.000000\n",
            "mean   1186.553000  211.533000   5.050000\n",
            "std     461.528444   66.916251   2.543826\n",
            "min     530.880000   82.160000   1.000000\n",
            "25%     774.517500  166.515000   2.750000\n",
            "50%    1104.865000  214.670000   5.000000\n",
            "75%    1571.080000  248.047500   7.250000\n",
            "max    1954.860000  364.970000   9.000000\n"
          ]
        }
      ]
    },
    {
      "cell_type": "code",
      "source": [
        "total_sales_by_region = df.groupby('Region')['Sales'].sum()\n",
        "print(\"\\nTotal sales for each region:\")\n",
        "print(total_sales_by_region)\n",
        "\n",
        "most_sold_product = df.groupby('Product')['Quantity'].sum().idxmax()\n",
        "print(\"\\nMost sold product (based on quantity):\", most_sold_product)\n",
        "\n",
        "df['Profit Margin'] = (df['Profit'] / df['Sales']) * 100\n",
        "average_profit_margin_by_product = df.groupby('Product')['Profit Margin'].mean()\n",
        "print(\"\\nAverage profit margin for each product:\")\n",
        "print(average_profit_margin_by_product)"
      ],
      "metadata": {
        "colab": {
          "base_uri": "https://localhost:8080/"
        },
        "id": "w-wL1pAAcRJi",
        "outputId": "ae4503a6-3f73-4b19-92d3-a3056784c3a3"
      },
      "id": "w-wL1pAAcRJi",
      "execution_count": 6,
      "outputs": [
        {
          "output_type": "stream",
          "name": "stdout",
          "text": [
            "\n",
            "Total sales for each region:\n",
            "Region\n",
            "East      5818.93\n",
            "North    10449.68\n",
            "South      936.84\n",
            "West      6525.61\n",
            "Name: Sales, dtype: float64\n",
            "\n",
            "Most sold product (based on quantity): Tablet\n",
            "\n",
            "Average profit margin for each product:\n",
            "Product\n",
            "Keyboard      20.080696\n",
            "Laptop        17.112734\n",
            "Monitor       15.134989\n",
            "Smartphone    23.703647\n",
            "Tablet        19.955758\n",
            "Name: Profit Margin, dtype: float64\n"
          ]
        }
      ]
    },
    {
      "cell_type": "code",
      "source": [
        "total_sales_by_region = df.groupby('Region')['Sales'].sum()\n",
        "print(\"\\nTotal sales for each region:\")\n",
        "print(total_sales_by_region)\n",
        "\n",
        "most_sold_product = df.groupby('Product')['Quantity'].sum().idxmax()\n",
        "print(\"\\nMost sold product (based on quantity):\", most_sold_product)\n",
        "\n",
        "df['Profit Margin'] = (df['Profit'] / df['Sales']) * 100\n",
        "average_profit_margin_by_product = df.groupby('Product')['Profit Margin'].mean()\n",
        "print(\"\\nAverage profit margin for each product:\")\n",
        "print(average_profit_margin_by_product)"
      ],
      "metadata": {
        "colab": {
          "base_uri": "https://localhost:8080/"
        },
        "id": "SfKNeO6jcRSo",
        "outputId": "605ad5c5-f6b1-4f07-8313-4660dbabd166"
      },
      "id": "SfKNeO6jcRSo",
      "execution_count": 7,
      "outputs": [
        {
          "output_type": "stream",
          "name": "stdout",
          "text": [
            "\n",
            "Total sales for each region:\n",
            "Region\n",
            "East      5818.93\n",
            "North    10449.68\n",
            "South      936.84\n",
            "West      6525.61\n",
            "Name: Sales, dtype: float64\n",
            "\n",
            "Most sold product (based on quantity): Tablet\n",
            "\n",
            "Average profit margin for each product:\n",
            "Product\n",
            "Keyboard      20.080696\n",
            "Laptop        17.112734\n",
            "Monitor       15.134989\n",
            "Smartphone    23.703647\n",
            "Tablet        19.955758\n",
            "Name: Profit Margin, dtype: float64\n"
          ]
        }
      ]
    }
  ],
  "metadata": {
    "kernelspec": {
      "display_name": "Python 3 (ipykernel)",
      "language": "python",
      "name": "python3"
    },
    "language_info": {
      "codemirror_mode": {
        "name": "ipython",
        "version": 3
      },
      "file_extension": ".py",
      "mimetype": "text/x-python",
      "name": "python",
      "nbconvert_exporter": "python",
      "pygments_lexer": "ipython3",
      "version": "3.12.7"
    },
    "colab": {
      "provenance": [],
      "include_colab_link": true
    }
  },
  "nbformat": 4,
  "nbformat_minor": 5
}