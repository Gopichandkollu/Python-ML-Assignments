{
  "cells": [
    {
      "cell_type": "markdown",
      "metadata": {
        "id": "view-in-github",
        "colab_type": "text"
      },
      "source": [
        "<a href=\"https://colab.research.google.com/github/Gopichandkollu/Python-ML-Assignments/blob/main/Day-9.ipynb\" target=\"_parent\"><img src=\"https://colab.research.google.com/assets/colab-badge.svg\" alt=\"Open In Colab\"/></a>"
      ]
    },
    {
      "cell_type": "code",
      "source": [
        "import pandas as pd\n",
        "\n",
        "df = pd.read_csv(r\"/content/Day_9_banking_data.csv\")\n",
        "print(\"First 5 rows of the dataset:\")\n",
        "print(df.head())\n",
        "print(\"\\nBasic statistics of the numerical columns:\")\n",
        "print(df.describe())\n",
        "print(\"\\nMissing values in the dataset:\")\n",
        "print(df.isnull().sum())"
      ],
      "metadata": {
        "colab": {
          "base_uri": "https://localhost:8080/"
        },
        "id": "E0HlPElceAyD",
        "outputId": "d4dce14d-4bc6-4575-9ea1-63a721c2da8f"
      },
      "id": "E0HlPElceAyD",
      "execution_count": 10,
      "outputs": [
        {
          "output_type": "stream",
          "name": "stdout",
          "text": [
            "First 5 rows of the dataset:\n",
            "         Date       Account_Type    Branch Transaction_Type  \\\n",
            "0  2023-01-19      Fixed Deposit   Central     Loan Payment   \n",
            "1  2023-01-16            Current    Uptown       Withdrawal   \n",
            "2  2023-01-10            Current    Uptown     Loan Payment   \n",
            "3  2023-01-18            Savings    Uptown     Loan Payment   \n",
            "4  2023-01-14  Recurring Deposit  Suburban     Loan Payment   \n",
            "\n",
            "   Transaction_Amount  Account_Balance  \n",
            "0              985.51          6839.59  \n",
            "1              641.43          8908.39  \n",
            "2             3363.85         12428.67  \n",
            "3             1914.60          5776.63  \n",
            "4             2788.57          4779.04  \n",
            "\n",
            "Basic statistics of the numerical columns:\n",
            "       Transaction_Amount  Account_Balance\n",
            "count           20.000000        20.000000\n",
            "mean          2705.829500      7967.766500\n",
            "std           1429.829787      2770.248821\n",
            "min            641.430000      2592.160000\n",
            "25%           1482.085000      6460.127500\n",
            "50%           2567.645000      7905.275000\n",
            "75%           4121.525000      9127.702500\n",
            "max           4683.640000     12836.510000\n",
            "\n",
            "Missing values in the dataset:\n",
            "Date                  0\n",
            "Account_Type          0\n",
            "Branch                0\n",
            "Transaction_Type      0\n",
            "Transaction_Amount    0\n",
            "Account_Balance       0\n",
            "dtype: int64\n"
          ]
        }
      ]
    },
    {
      "cell_type": "code",
      "source": [
        "total_transaction_amount_by_account_type = df.groupby('Account_Type')['Transaction_Amount'].sum()\n",
        "print(total_transaction_amount_by_account_type)\n",
        "\n",
        "average_account_balance_by_account_type = df.groupby('Account_Type')['Account_Balance'].mean()\n",
        "print(average_account_balance_by_account_type)\n",
        "\n",
        "total_transactions_by_branch = df.groupby('Branch')['Transaction_Amount'].count()\n",
        "print(total_transactions_by_branch)\n",
        "\n",
        "average_transaction_amount_by_branch = df.groupby('Branch')['Transaction_Amount'].mean()\n",
        "print(average_transaction_amount_by_branch)"
      ],
      "metadata": {
        "colab": {
          "base_uri": "https://localhost:8080/"
        },
        "id": "ov7-sZXneA0Y",
        "outputId": "46903d09-a36d-4f7a-db99-38c2723d0cf4"
      },
      "id": "ov7-sZXneA0Y",
      "execution_count": 11,
      "outputs": [
        {
          "output_type": "stream",
          "name": "stdout",
          "text": [
            "Account_Type\n",
            "Current              15052.57\n",
            "Fixed Deposit        14102.59\n",
            "Recurring Deposit    15179.99\n",
            "Savings               9781.44\n",
            "Name: Transaction_Amount, dtype: float64\n",
            "Account_Type\n",
            "Current              9893.404000\n",
            "Fixed Deposit        6120.380000\n",
            "Recurring Deposit    7627.283333\n",
            "Savings              9134.110000\n",
            "Name: Account_Balance, dtype: float64\n",
            "Branch\n",
            "Central     8\n",
            "Downtown    3\n",
            "Suburban    5\n",
            "Uptown      4\n",
            "Name: Transaction_Amount, dtype: int64\n",
            "Branch\n",
            "Central     2942.338750\n",
            "Downtown    3188.703333\n",
            "Suburban    2773.278000\n",
            "Uptown      1786.345000\n",
            "Name: Transaction_Amount, dtype: float64\n"
          ]
        }
      ]
    }
  ],
  "metadata": {
    "kernelspec": {
      "display_name": "Python 3 (ipykernel)",
      "language": "python",
      "name": "python3"
    },
    "language_info": {
      "codemirror_mode": {
        "name": "ipython",
        "version": 3
      },
      "file_extension": ".py",
      "mimetype": "text/x-python",
      "name": "python",
      "nbconvert_exporter": "python",
      "pygments_lexer": "ipython3",
      "version": "3.12.7"
    },
    "colab": {
      "provenance": [],
      "include_colab_link": true
    }
  },
  "nbformat": 4,
  "nbformat_minor": 5
}